{
 "cells": [
  {
   "cell_type": "markdown",
   "id": "cb0137d0-eb2c-4c64-bb29-db8551d7d0e8",
   "metadata": {},
   "source": [
    "<font size=\"5\">**Equivalent width of DIBs for extinction estimation**"
   ]
  },
  {
   "cell_type": "code",
   "execution_count": null,
   "id": "eacfd2c2-e950-41c4-85ad-6950293ced92",
   "metadata": {},
   "outputs": [],
   "source": [
    "def weighted_average(x1, e1, x2, e2):\n",
    "    w1 = 1 / e1**2\n",
    "    w2 = 1 / e2**2\n",
    "\n",
    "    average = (x1 * w1 + x2 * w2) / (w1 + w2)\n",
    "    error = np.sqrt(1 / (w1 + w2))\n",
    "\n",
    "    return average, error"
   ]
  },
  {
   "cell_type": "markdown",
   "id": "10992984-0b63-4d85-beef-39ef7189a3ce",
   "metadata": {},
   "source": [
    "Estimation of extinction values, where for some sources I took the spectrum of a different day since there were foton contaminations. Error is computed by propagation of errors and weighted average considers errors."
   ]
  },
  {
   "cell_type": "code",
   "execution_count": null,
   "id": "107ec23d-f0f1-444a-be09-77040eaccf41",
   "metadata": {},
   "outputs": [],
   "source": [
    "import glob\n",
    "import os\n",
    "import warnings\n",
    "import extinction\n",
    "import numpy as np\n",
    "from specutils import SpectralRegion\n",
    "from specutils.analysis import equivalent_width\n",
    "from specutils.fitting import fit_generic_continuum\n",
    "def estimate_extinction_source(file):\n",
    "    wl, flux=read_fits_spectrum(file)\n",
    "\n",
    "    #Normalization around 5780\n",
    "    mask_5780=(wl>5760*u.AA) & (wl<5795*u.AA)\n",
    "    spec_5780 = Spectrum1D(spectral_axis=wl[mask_5780], flux=flux[mask_5780])\n",
    "    with warnings.catch_warnings():\n",
    "        warnings.simplefilter('ignore')\n",
    "        normalized_flux_5780=spec_5780/fit_generic_continuum(spec_5780)(spec_5780.spectral_axis)\n",
    "    \n",
    "    #Normalization around 6614 (este está bien, no da errores)\n",
    "    mask_6614=(wl>6590*u.AA) & (wl<6640*u.AA)\n",
    "    spec_6614 = Spectrum1D(spectral_axis=wl[mask_6614], flux=flux[mask_6614])\n",
    "    with warnings.catch_warnings():\n",
    "        warnings.simplefilter('ignore')\n",
    "        normalized_flux_6614=spec_6614/fit_generic_continuum(spec_6614)(spec_6614.spectral_axis)\n",
    "    \n",
    "    region_5780=SpectralRegion(5778*u.AA, 5783.5*u.AA)\n",
    "    fname = os.path.basename(file)\n",
    "    if fname.startswith(\"ysg_103_-1\") or fname.startswith(\"ysg_104_-13\") or fname.startswith(\"ysg_110_-21\") or fname.startswith(\"ysg_95_06\"):\n",
    "        region_6614=SpectralRegion(6612.9*u.AA, 6615.9*u.AA) #for 103_-1, 104_-13, 110_-21, 95_06\n",
    "    else:\n",
    "        region_6614=SpectralRegion(6611.7*u.AA, 6615*u.AA) #for the rest\n",
    "\n",
    "    equiv_width_5780=equivalent_width(normalized_flux_5780, regions=region_5780).value\n",
    "    equiv_width_6614=equivalent_width(normalized_flux_6614, regions=region_6614).value\n",
    "\n",
    "    equiv_width=np.mean([equiv_width_5780, equiv_width_6614])\n",
    "    print(os.path.basename(file)[:-14], equiv_width)\n",
    "    \n",
    "    #Our stars are O, B, A type, so we consider no stellar photosphere contamination\n",
    "    E_BminusV_5780=0.035+(1.978*equiv_width_5780)\n",
    "    E_BminusV_6614=0.072+(3.846*equiv_width_6614)\n",
    "    E_BminusV_5780err=np.sqrt(0.009**2+(equiv_width_5780*0.514)**2)\n",
    "    E_BminusV_6614err=np.sqrt(0.022**2+(equiv_width_6614*1.192)**2)\n",
    "    \n",
    "    #Compute extinction\n",
    "    Av_5780=3.1*E_BminusV_5780\n",
    "    Av_6614=3.1*E_BminusV_6614\n",
    "    Av_5780err=3.1*E_BminusV_5780err\n",
    "    Av_6614err=3.1*E_BminusV_6614err\n",
    "    print(os.path.basename(file)[:-14], \"Av_5780=\", Av_5780, \"+-\", Av_5780err, \"Av_6614=\", Av_6614, \"+-\", Av_6614err)\n",
    "    mean_Av, mean_Averr=weighted_average(Av_5780, Av_5780err, Av_6614, Av_6614err)\n",
    "\n",
    "    AG=extinction.fitzpatrick99(np.array([5822.39]), mean_Av, 3.1)\n",
    "    ABP=extinction.fitzpatrick99(np.array([5035.75]), mean_Av, 3.1)\n",
    "    ARP=extinction.fitzpatrick99(np.array([7619.96]), mean_Av, 3.1)\n",
    "\n",
    "    AGerr=extinction.fitzpatrick99(np.array([5822.39]), mean_Averr, 3.1)\n",
    "    ABPerr=extinction.fitzpatrick99(np.array([5822.39]), mean_Averr, 3.1)\n",
    "    ARPerr=extinction.fitzpatrick99(np.array([5822.39]), mean_Averr, 3.1)\n",
    "    \n",
    "    return AG, AGerr, ABP, ABPerr, ARP, ARPerr"
   ]
  }
 ],
 "metadata": {
  "kernelspec": {
   "display_name": "Python 3 (ipykernel)",
   "language": "python",
   "name": "python3"
  },
  "language_info": {
   "codemirror_mode": {
    "name": "ipython",
    "version": 3
   },
   "file_extension": ".py",
   "mimetype": "text/x-python",
   "name": "python",
   "nbconvert_exporter": "python",
   "pygments_lexer": "ipython3",
   "version": "3.13.5"
  }
 },
 "nbformat": 4,
 "nbformat_minor": 5
}
