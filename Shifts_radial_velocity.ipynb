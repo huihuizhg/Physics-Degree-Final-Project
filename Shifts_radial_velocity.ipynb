{
 "cells": [
  {
   "cell_type": "code",
   "execution_count": null,
   "id": "8194e34e-fc19-4354-b931-e2529bf47c21",
   "metadata": {},
   "outputs": [],
   "source": [
    "import numpy as np\n",
    "from astropy.io import fits\n",
    "import astropy.units as u\n",
    "import warnings\n",
    "from scipy.interpolate import interp1d\n",
    "from astropy.modeling import models, fitting\n",
    "from specutils import Spectrum1D\n",
    "from specutils.fitting import fit_continuum\n",
    "from scipy.signal import correlate\n",
    "\n",
    "def measure_radvel_check(file1, file2, radvel):\n",
    "    c = 299792.458* u.km / u.s\n",
    "    shifts={\n",
    "        \"Line 1\":{\"c\":4388*u.AA, \"shift\":4388*u.AA*radvel/c, \"wlmin\":4368*u.AA, \"wlmax\":4408*u.AA},\n",
    "        \"Line 2\":{\"c\":4922*u.AA,\"shift\":4922*u.AA*radvel/c, \"wlmin\":4902*u.AA, \"wlmax\":4942*u.AA},\n",
    "        \"Line 3\":{\"c\":5016*u.AA, \"shift\":5016*u.AA*radvel/c, \"wlmin\":4996*u.AA, \"wlmax\":5036*u.AA}\n",
    "    }\n",
    "    vrads=[]\n",
    "    for name, shift in shifts.items():\n",
    "        wl1, flux1=read_fits_spectrum(file1)\n",
    "        wl2, flux2=read_fits_spectrum(file2)\n",
    "\n",
    "        mask1=(wl1>shift[\"wlmin\"])&(wl1<shift[\"wlmax\"])\n",
    "        mask2=(wl2>shift[\"wlmin\"])&(wl2<shift[\"wlmax\"])\n",
    "        wl1_line=wl1[mask1]\n",
    "        wl2_line=wl2[mask2]\n",
    "        f1=flux1[mask1]\n",
    "        f2=flux2[mask2]\n",
    "        interp_shift = interp1d(wl2_line.value + shift[\"shift\"].value, f2.value, bounds_error=False, fill_value=0)\n",
    "        f2 = interp_shift(wl2_line.value)* u.Unit('erg cm-2 s-1 AA-1')\n",
    "\n",
    "        plt.figure(figsize=(8, 5))\n",
    "        plt.plot(wl1_line, f1, label=\"Original spectrum line\", color=\"darkgrey\")\n",
    "        plt.plot(wl2_line, f2, label=\"Spectrum line with an artificial 20km/s radial velocity shift\", color=\"indianred\")\n",
    "        plt.xlabel(\"Wavelength (Å)\")\n",
    "        plt.ylabel(\"Flux\")\n",
    "        plt.xlim(4380, 4400)\n",
    "        plt.ylim(0, 0.03)\n",
    "        plt.legend(loc=\"lower left\", frameon=False)\n",
    "        plt.tight_layout()\n",
    "        plt.show()\n",
    "        \n",
    "        corr = correlate(f2, f1, mode='full')\n",
    "        lags = np.arange(-len(f1) + 1, len(f2))\n",
    "        maxi = lags[np.argmax(corr)]\n",
    "    \n",
    "        delta_lambda = (wl1_line[1].value - wl2_line[0].value)\n",
    "        shift_lambda = maxi * delta_lambda \n",
    "        vrads.append((((shift_lambda*u.AA) / (shift[\"c\"]*u.AA)) * c).value)\n",
    "        \n",
    "    vrad=np.mean(vrads)\n",
    "    error=(radvel.value-vrad)/radvel.value*100\n",
    "    print(vrad, error)"
   ]
  }
 ],
 "metadata": {
  "kernelspec": {
   "display_name": "Python 3 (ipykernel)",
   "language": "python",
   "name": "python3"
  },
  "language_info": {
   "codemirror_mode": {
    "name": "ipython",
    "version": 3
   },
   "file_extension": ".py",
   "mimetype": "text/x-python",
   "name": "python",
   "nbconvert_exporter": "python",
   "pygments_lexer": "ipython3",
   "version": "3.13.5"
  }
 },
 "nbformat": 4,
 "nbformat_minor": 5
}
